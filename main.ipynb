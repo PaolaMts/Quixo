{
 "cells": [
  {
   "cell_type": "code",
   "execution_count": 1,
   "metadata": {},
   "outputs": [],
   "source": [
    "from game import Game\n",
    "from players import MyPlayer, RandomPlayer, HumanPlayer, print_board\n",
    "from tqdm.auto import tqdm"
   ]
  },
  {
   "cell_type": "code",
   "execution_count": null,
   "metadata": {},
   "outputs": [],
   "source": [
    "#Play against MyPlayer\n",
    "g = Game()\n",
    "player1 = MyPlayer(3, against_human=True)\n",
    "player2 = HumanPlayer()\n",
    "print(\"PLAYER 1: \", '\\033[91m', \"X\", '\\033[0m')\n",
    "print(\"PLAYER 2: \", '\\033[92m', \"O\", '\\033[0m')\n",
    "winner = g.play(player1, player2)\n",
    "print_board(g)\n",
    "if winner == 0:\n",
    "    print(\"Player 1 wins\")\n",
    "else:    \n",
    "    print(\"Player 2 wins\")"
   ]
  },
  {
   "cell_type": "code",
   "execution_count": 4,
   "metadata": {},
   "outputs": [],
   "source": [
    "TEST_MATCHES = 20\n",
    "WITH_SIMMETRY = False"
   ]
  },
  {
   "cell_type": "code",
   "execution_count": 6,
   "metadata": {},
   "outputs": [
    {
     "name": "stdout",
     "output_type": "stream",
     "text": [
      "\n",
      "TEST GAMES\n"
     ]
    },
    {
     "data": {
      "application/vnd.jupyter.widget-view+json": {
       "model_id": "631e258d03924fb7b049458ba8799365",
       "version_major": 2,
       "version_minor": 0
      },
      "text/plain": [
       "  0%|          | 0/20 [00:00<?, ?it/s]"
      ]
     },
     "metadata": {},
     "output_type": "display_data"
    },
    {
     "name": "stdout",
     "output_type": "stream",
     "text": [
      "wins: 85.00, losses: 15.00\n"
     ]
    }
   ],
   "source": [
    "wins = 0\n",
    "losses = 0\n",
    "\n",
    "print(\"\\nTEST GAMES\")\n",
    "    \n",
    "for _ in tqdm(range(TEST_MATCHES)):\n",
    "    g = Game()\n",
    "    player1 = MyPlayer(3, with_simmetries=WITH_SIMMETRY)\n",
    "    player2 = RandomPlayer()\n",
    "    winner = g.play(player1, player2)\n",
    "    if winner == 0:\n",
    "        wins +=1\n",
    "    else:\n",
    "        losses += 1\n",
    "print(f\"wins: {wins/TEST_MATCHES* 100:.2f}, losses: {losses/TEST_MATCHES* 100:.2f}\")"
   ]
  }
 ],
 "metadata": {
  "kernelspec": {
   "display_name": "quixo-2SR8Bqo--py3.12",
   "language": "python",
   "name": "python3"
  },
  "language_info": {
   "codemirror_mode": {
    "name": "ipython",
    "version": 3
   },
   "file_extension": ".py",
   "mimetype": "text/x-python",
   "name": "python",
   "nbconvert_exporter": "python",
   "pygments_lexer": "ipython3",
   "version": "3.12.0"
  }
 },
 "nbformat": 4,
 "nbformat_minor": 2
}
