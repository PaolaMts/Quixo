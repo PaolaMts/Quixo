{
 "cells": [
  {
   "cell_type": "code",
   "execution_count": 1,
   "metadata": {},
   "outputs": [],
   "source": [
    "from game import Game\n",
    "from players import MyPlayer, RandomPlayer, HumanPlayer, print_board\n",
    "from tqdm.auto import tqdm"
   ]
  },
  {
   "cell_type": "code",
   "execution_count": 5,
   "metadata": {},
   "outputs": [],
   "source": [
    "TEST_MATCHES = 20"
   ]
  },
  {
   "cell_type": "code",
   "execution_count": 3,
   "metadata": {},
   "outputs": [],
   "source": [
    "STARTING_TURN = 0\n",
    "# players=[None, None]\n",
    "# players[STARTING_TURN]= MyPlayer(mc_tree, STARTING_TURN)\n",
    "# players[1-STARTING_TURN]=RandomPlayer(1-STARTING_TURN)\n",
    "# player1, player2=players[0], players[1]"
   ]
  },
  {
   "cell_type": "code",
   "execution_count": 2,
   "metadata": {},
   "outputs": [
    {
     "name": "stdout",
     "output_type": "stream",
     "text": [
      "\u001b[90m - \u001b[0m \u001b[90m - \u001b[0m \u001b[90m - \u001b[0m \u001b[90m - \u001b[0m \u001b[90m - \u001b[0m \n",
      "\u001b[90m - \u001b[0m \u001b[90m - \u001b[0m \u001b[90m - \u001b[0m \u001b[90m - \u001b[0m \u001b[90m - \u001b[0m \n",
      "\u001b[90m - \u001b[0m \u001b[90m - \u001b[0m \u001b[90m - \u001b[0m \u001b[90m - \u001b[0m \u001b[90m - \u001b[0m \n",
      "\u001b[90m - \u001b[0m \u001b[90m - \u001b[0m \u001b[90m - \u001b[0m \u001b[90m - \u001b[0m \u001b[90m - \u001b[0m \n",
      "\u001b[90m - \u001b[0m \u001b[90m - \u001b[0m \u001b[90m - \u001b[0m \u001b[90m - \u001b[0m \u001b[90m - \u001b[0m \n",
      "\n",
      "(0, 0) Move.RIGHT\n",
      "\u001b[90m - \u001b[0m \u001b[90m - \u001b[0m \u001b[90m - \u001b[0m \u001b[90m - \u001b[0m \u001b[91m X \u001b[0m \n",
      "\u001b[90m - \u001b[0m \u001b[90m - \u001b[0m \u001b[90m - \u001b[0m \u001b[90m - \u001b[0m \u001b[90m - \u001b[0m \n",
      "\u001b[90m - \u001b[0m \u001b[90m - \u001b[0m \u001b[90m - \u001b[0m \u001b[90m - \u001b[0m \u001b[90m - \u001b[0m \n",
      "\u001b[90m - \u001b[0m \u001b[90m - \u001b[0m \u001b[90m - \u001b[0m \u001b[90m - \u001b[0m \u001b[90m - \u001b[0m \n",
      "\u001b[90m - \u001b[0m \u001b[90m - \u001b[0m \u001b[90m - \u001b[0m \u001b[90m - \u001b[0m \u001b[90m - \u001b[0m \n",
      "\n",
      "(0, 0) Move.BOTTOM\n",
      "\u001b[90m - \u001b[0m \u001b[90m - \u001b[0m \u001b[90m - \u001b[0m \u001b[90m - \u001b[0m \u001b[91m X \u001b[0m \n",
      "\u001b[90m - \u001b[0m \u001b[90m - \u001b[0m \u001b[90m - \u001b[0m \u001b[90m - \u001b[0m \u001b[90m - \u001b[0m \n",
      "\u001b[90m - \u001b[0m \u001b[90m - \u001b[0m \u001b[90m - \u001b[0m \u001b[90m - \u001b[0m \u001b[90m - \u001b[0m \n",
      "\u001b[90m - \u001b[0m \u001b[90m - \u001b[0m \u001b[90m - \u001b[0m \u001b[90m - \u001b[0m \u001b[90m - \u001b[0m \n",
      "\u001b[92m O \u001b[0m \u001b[90m - \u001b[0m \u001b[90m - \u001b[0m \u001b[90m - \u001b[0m \u001b[90m - \u001b[0m \n",
      "\n",
      "(0, 0) Move.BOTTOM\n",
      "\u001b[90m - \u001b[0m \u001b[90m - \u001b[0m \u001b[90m - \u001b[0m \u001b[90m - \u001b[0m \u001b[91m X \u001b[0m \n",
      "\u001b[90m - \u001b[0m \u001b[90m - \u001b[0m \u001b[90m - \u001b[0m \u001b[90m - \u001b[0m \u001b[90m - \u001b[0m \n",
      "\u001b[90m - \u001b[0m \u001b[90m - \u001b[0m \u001b[90m - \u001b[0m \u001b[90m - \u001b[0m \u001b[90m - \u001b[0m \n",
      "\u001b[92m O \u001b[0m \u001b[90m - \u001b[0m \u001b[90m - \u001b[0m \u001b[90m - \u001b[0m \u001b[90m - \u001b[0m \n",
      "\u001b[91m X \u001b[0m \u001b[90m - \u001b[0m \u001b[90m - \u001b[0m \u001b[90m - \u001b[0m \u001b[90m - \u001b[0m \n",
      "\n",
      "(3, 4) Move.LEFT\n",
      "\u001b[90m - \u001b[0m \u001b[90m - \u001b[0m \u001b[90m - \u001b[0m \u001b[90m - \u001b[0m \u001b[91m X \u001b[0m \n",
      "\u001b[90m - \u001b[0m \u001b[90m - \u001b[0m \u001b[90m - \u001b[0m \u001b[90m - \u001b[0m \u001b[90m - \u001b[0m \n",
      "\u001b[90m - \u001b[0m \u001b[90m - \u001b[0m \u001b[90m - \u001b[0m \u001b[90m - \u001b[0m \u001b[90m - \u001b[0m \n",
      "\u001b[92m O \u001b[0m \u001b[92m O \u001b[0m \u001b[90m - \u001b[0m \u001b[90m - \u001b[0m \u001b[90m - \u001b[0m \n",
      "\u001b[91m X \u001b[0m \u001b[90m - \u001b[0m \u001b[90m - \u001b[0m \u001b[90m - \u001b[0m \u001b[90m - \u001b[0m \n",
      "\n",
      "(0, 0) Move.RIGHT\n",
      "\u001b[90m - \u001b[0m \u001b[90m - \u001b[0m \u001b[90m - \u001b[0m \u001b[91m X \u001b[0m \u001b[91m X \u001b[0m \n",
      "\u001b[90m - \u001b[0m \u001b[90m - \u001b[0m \u001b[90m - \u001b[0m \u001b[90m - \u001b[0m \u001b[90m - \u001b[0m \n",
      "\u001b[90m - \u001b[0m \u001b[90m - \u001b[0m \u001b[90m - \u001b[0m \u001b[90m - \u001b[0m \u001b[90m - \u001b[0m \n",
      "\u001b[92m O \u001b[0m \u001b[92m O \u001b[0m \u001b[90m - \u001b[0m \u001b[90m - \u001b[0m \u001b[90m - \u001b[0m \n",
      "\u001b[91m X \u001b[0m \u001b[90m - \u001b[0m \u001b[90m - \u001b[0m \u001b[90m - \u001b[0m \u001b[90m - \u001b[0m \n",
      "\n",
      "(3, 4) Move.LEFT\n",
      "\u001b[90m - \u001b[0m \u001b[90m - \u001b[0m \u001b[90m - \u001b[0m \u001b[91m X \u001b[0m \u001b[91m X \u001b[0m \n",
      "\u001b[90m - \u001b[0m \u001b[90m - \u001b[0m \u001b[90m - \u001b[0m \u001b[90m - \u001b[0m \u001b[90m - \u001b[0m \n",
      "\u001b[90m - \u001b[0m \u001b[90m - \u001b[0m \u001b[90m - \u001b[0m \u001b[90m - \u001b[0m \u001b[90m - \u001b[0m \n",
      "\u001b[92m O \u001b[0m \u001b[92m O \u001b[0m \u001b[92m O \u001b[0m \u001b[90m - \u001b[0m \u001b[90m - \u001b[0m \n",
      "\u001b[91m X \u001b[0m \u001b[90m - \u001b[0m \u001b[90m - \u001b[0m \u001b[90m - \u001b[0m \u001b[90m - \u001b[0m \n",
      "\n",
      "(0, 0) Move.RIGHT\n",
      "\u001b[90m - \u001b[0m \u001b[90m - \u001b[0m \u001b[91m X \u001b[0m \u001b[91m X \u001b[0m \u001b[91m X \u001b[0m \n",
      "\u001b[90m - \u001b[0m \u001b[90m - \u001b[0m \u001b[90m - \u001b[0m \u001b[90m - \u001b[0m \u001b[90m - \u001b[0m \n",
      "\u001b[90m - \u001b[0m \u001b[90m - \u001b[0m \u001b[90m - \u001b[0m \u001b[90m - \u001b[0m \u001b[90m - \u001b[0m \n",
      "\u001b[92m O \u001b[0m \u001b[92m O \u001b[0m \u001b[92m O \u001b[0m \u001b[90m - \u001b[0m \u001b[90m - \u001b[0m \n",
      "\u001b[91m X \u001b[0m \u001b[90m - \u001b[0m \u001b[90m - \u001b[0m \u001b[90m - \u001b[0m \u001b[90m - \u001b[0m \n",
      "\n",
      "(3, 4) Move.LEFT\n",
      "\u001b[90m - \u001b[0m \u001b[90m - \u001b[0m \u001b[91m X \u001b[0m \u001b[91m X \u001b[0m \u001b[91m X \u001b[0m \n",
      "\u001b[90m - \u001b[0m \u001b[90m - \u001b[0m \u001b[90m - \u001b[0m \u001b[90m - \u001b[0m \u001b[90m - \u001b[0m \n",
      "\u001b[90m - \u001b[0m \u001b[90m - \u001b[0m \u001b[90m - \u001b[0m \u001b[90m - \u001b[0m \u001b[90m - \u001b[0m \n",
      "\u001b[92m O \u001b[0m \u001b[92m O \u001b[0m \u001b[92m O \u001b[0m \u001b[92m O \u001b[0m \u001b[90m - \u001b[0m \n",
      "\u001b[91m X \u001b[0m \u001b[90m - \u001b[0m \u001b[90m - \u001b[0m \u001b[90m - \u001b[0m \u001b[90m - \u001b[0m \n",
      "\n",
      "(0, 0) Move.BOTTOM\n",
      "\u001b[90m - \u001b[0m \u001b[90m - \u001b[0m \u001b[91m X \u001b[0m \u001b[91m X \u001b[0m \u001b[91m X \u001b[0m \n",
      "\u001b[90m - \u001b[0m \u001b[90m - \u001b[0m \u001b[90m - \u001b[0m \u001b[90m - \u001b[0m \u001b[90m - \u001b[0m \n",
      "\u001b[92m O \u001b[0m \u001b[90m - \u001b[0m \u001b[90m - \u001b[0m \u001b[90m - \u001b[0m \u001b[90m - \u001b[0m \n",
      "\u001b[91m X \u001b[0m \u001b[92m O \u001b[0m \u001b[92m O \u001b[0m \u001b[92m O \u001b[0m \u001b[90m - \u001b[0m \n",
      "\u001b[91m X \u001b[0m \u001b[90m - \u001b[0m \u001b[90m - \u001b[0m \u001b[90m - \u001b[0m \u001b[90m - \u001b[0m \n",
      "\n",
      "(3, 4) Move.LEFT\n",
      "\u001b[90m - \u001b[0m \u001b[90m - \u001b[0m \u001b[91m X \u001b[0m \u001b[91m X \u001b[0m \u001b[91m X \u001b[0m \n",
      "\u001b[90m - \u001b[0m \u001b[90m - \u001b[0m \u001b[90m - \u001b[0m \u001b[90m - \u001b[0m \u001b[90m - \u001b[0m \n",
      "\u001b[92m O \u001b[0m \u001b[90m - \u001b[0m \u001b[90m - \u001b[0m \u001b[90m - \u001b[0m \u001b[90m - \u001b[0m \n",
      "\u001b[92m O \u001b[0m \u001b[91m X \u001b[0m \u001b[92m O \u001b[0m \u001b[92m O \u001b[0m \u001b[92m O \u001b[0m \n",
      "\u001b[91m X \u001b[0m \u001b[90m - \u001b[0m \u001b[90m - \u001b[0m \u001b[90m - \u001b[0m \u001b[90m - \u001b[0m \n",
      "\n",
      "(0, 0) Move.RIGHT\n",
      "\u001b[90m - \u001b[0m \u001b[91m X \u001b[0m \u001b[91m X \u001b[0m \u001b[91m X \u001b[0m \u001b[91m X \u001b[0m \n",
      "\u001b[90m - \u001b[0m \u001b[90m - \u001b[0m \u001b[90m - \u001b[0m \u001b[90m - \u001b[0m \u001b[90m - \u001b[0m \n",
      "\u001b[92m O \u001b[0m \u001b[90m - \u001b[0m \u001b[90m - \u001b[0m \u001b[90m - \u001b[0m \u001b[90m - \u001b[0m \n",
      "\u001b[92m O \u001b[0m \u001b[91m X \u001b[0m \u001b[92m O \u001b[0m \u001b[92m O \u001b[0m \u001b[92m O \u001b[0m \n",
      "\u001b[91m X \u001b[0m \u001b[90m - \u001b[0m \u001b[90m - \u001b[0m \u001b[90m - \u001b[0m \u001b[90m - \u001b[0m \n",
      "\n",
      "(0, 1) Move.BOTTOM\n",
      "\u001b[90m - \u001b[0m \u001b[91m X \u001b[0m \u001b[91m X \u001b[0m \u001b[91m X \u001b[0m \u001b[91m X \u001b[0m \n",
      "\u001b[90m - \u001b[0m \u001b[90m - \u001b[0m \u001b[90m - \u001b[0m \u001b[90m - \u001b[0m \u001b[90m - \u001b[0m \n",
      "\u001b[92m O \u001b[0m \u001b[90m - \u001b[0m \u001b[90m - \u001b[0m \u001b[90m - \u001b[0m \u001b[90m - \u001b[0m \n",
      "\u001b[92m O \u001b[0m \u001b[91m X \u001b[0m \u001b[92m O \u001b[0m \u001b[92m O \u001b[0m \u001b[92m O \u001b[0m \n",
      "\u001b[91m X \u001b[0m \u001b[90m - \u001b[0m \u001b[90m - \u001b[0m \u001b[90m - \u001b[0m \u001b[90m - \u001b[0m \n",
      "\n",
      "(0, 0) Move.RIGHT\n",
      "\u001b[91m X \u001b[0m \u001b[91m X \u001b[0m \u001b[91m X \u001b[0m \u001b[91m X \u001b[0m \u001b[92m O \u001b[0m \n",
      "\u001b[90m - \u001b[0m \u001b[90m - \u001b[0m \u001b[90m - \u001b[0m \u001b[90m - \u001b[0m \u001b[90m - \u001b[0m \n",
      "\u001b[92m O \u001b[0m \u001b[90m - \u001b[0m \u001b[90m - \u001b[0m \u001b[90m - \u001b[0m \u001b[90m - \u001b[0m \n",
      "\u001b[92m O \u001b[0m \u001b[91m X \u001b[0m \u001b[92m O \u001b[0m \u001b[92m O \u001b[0m \u001b[92m O \u001b[0m \n",
      "\u001b[91m X \u001b[0m \u001b[90m - \u001b[0m \u001b[90m - \u001b[0m \u001b[90m - \u001b[0m \u001b[90m - \u001b[0m \n",
      "\n",
      "(4, 1) Move.TOP\n",
      "\u001b[91m X \u001b[0m \u001b[91m X \u001b[0m \u001b[91m X \u001b[0m \u001b[91m X \u001b[0m \u001b[91m X \u001b[0m \n",
      "\u001b[90m - \u001b[0m \u001b[90m - \u001b[0m \u001b[90m - \u001b[0m \u001b[90m - \u001b[0m \u001b[92m O \u001b[0m \n",
      "\u001b[92m O \u001b[0m \u001b[90m - \u001b[0m \u001b[90m - \u001b[0m \u001b[90m - \u001b[0m \u001b[90m - \u001b[0m \n",
      "\u001b[92m O \u001b[0m \u001b[91m X \u001b[0m \u001b[92m O \u001b[0m \u001b[92m O \u001b[0m \u001b[92m O \u001b[0m \n",
      "\u001b[91m X \u001b[0m \u001b[90m - \u001b[0m \u001b[90m - \u001b[0m \u001b[90m - \u001b[0m \u001b[90m - \u001b[0m \n",
      "Player 1 wins\n"
     ]
    }
   ],
   "source": [
    "g = Game()\n",
    "player1 = MyPlayer(4, against_human=True)\n",
    "player2 = HumanPlayer()\n",
    "print(\"PLAYER 1: \", '\\033[91m', \"X\", '\\033[0m')\n",
    "print(\"PLAYER 2: \", '\\033[92m', \"O\", '\\033[0m')\n",
    "winner = g.play(player1, player2)\n",
    "print_board(g)\n",
    "if winner == 0:\n",
    "    print(\"Player 1 wins\")\n",
    "else:    \n",
    "    print(\"Player 2 wins\")"
   ]
  },
  {
   "cell_type": "code",
   "execution_count": 7,
   "metadata": {},
   "outputs": [
    {
     "name": "stdout",
     "output_type": "stream",
     "text": [
      "\n",
      "TEST GAMES\n"
     ]
    },
    {
     "data": {
      "application/vnd.jupyter.widget-view+json": {
       "model_id": "a03e436673994d5babe6d0b65a418936",
       "version_major": 2,
       "version_minor": 0
      },
      "text/plain": [
       "  0%|          | 0/20 [00:00<?, ?it/s]"
      ]
     },
     "metadata": {},
     "output_type": "display_data"
    },
    {
     "name": "stdout",
     "output_type": "stream",
     "text": [
      "(0, 0) Move.RIGHT\n",
      "(0, 0) Move.RIGHT\n",
      "(0, 0) Move.BOTTOM\n",
      "(0, 0) Move.RIGHT\n"
     ]
    },
    {
     "ename": "KeyboardInterrupt",
     "evalue": "",
     "output_type": "error",
     "traceback": [
      "\u001b[1;31m---------------------------------------------------------------------------\u001b[0m",
      "\u001b[1;31mKeyboardInterrupt\u001b[0m                         Traceback (most recent call last)",
      "Cell \u001b[1;32mIn[7], line 11\u001b[0m\n\u001b[0;32m      9\u001b[0m player1 \u001b[38;5;241m=\u001b[39m MyPlayer(\u001b[38;5;241m2\u001b[39m)\n\u001b[0;32m     10\u001b[0m player2 \u001b[38;5;241m=\u001b[39m RandomPlayer()\n\u001b[1;32m---> 11\u001b[0m winner \u001b[38;5;241m=\u001b[39m \u001b[43mg\u001b[49m\u001b[38;5;241;43m.\u001b[39;49m\u001b[43mplay\u001b[49m\u001b[43m(\u001b[49m\u001b[43mplayer1\u001b[49m\u001b[43m,\u001b[49m\u001b[43m \u001b[49m\u001b[43mplayer2\u001b[49m\u001b[43m)\u001b[49m\n\u001b[0;32m     12\u001b[0m \u001b[38;5;28;01mif\u001b[39;00m winner \u001b[38;5;241m==\u001b[39m \u001b[38;5;241m0\u001b[39m:\n\u001b[0;32m     13\u001b[0m     wins \u001b[38;5;241m+\u001b[39m\u001b[38;5;241m=\u001b[39m\u001b[38;5;241m1\u001b[39m\n",
      "File \u001b[1;32mc:\\Users\\utente\\Desktop\\Quixo\\game.py:96\u001b[0m, in \u001b[0;36mGame.play\u001b[1;34m(self, player1, player2)\u001b[0m\n\u001b[0;32m     94\u001b[0m ok \u001b[38;5;241m=\u001b[39m \u001b[38;5;28;01mFalse\u001b[39;00m\n\u001b[0;32m     95\u001b[0m \u001b[38;5;28;01mwhile\u001b[39;00m \u001b[38;5;129;01mnot\u001b[39;00m ok:\n\u001b[1;32m---> 96\u001b[0m     from_pos, slide \u001b[38;5;241m=\u001b[39m \u001b[43mplayers\u001b[49m\u001b[43m[\u001b[49m\u001b[38;5;28;43mself\u001b[39;49m\u001b[38;5;241;43m.\u001b[39;49m\u001b[43mcurrent_player_idx\u001b[49m\u001b[43m]\u001b[49m\u001b[38;5;241;43m.\u001b[39;49m\u001b[43mmake_move\u001b[49m\u001b[43m(\u001b[49m\n\u001b[0;32m     97\u001b[0m \u001b[43m        \u001b[49m\u001b[38;5;28;43mself\u001b[39;49m\u001b[43m)\u001b[49m\n\u001b[0;32m     98\u001b[0m     ok \u001b[38;5;241m=\u001b[39m \u001b[38;5;28mself\u001b[39m\u001b[38;5;241m.\u001b[39m__move(from_pos, slide, \u001b[38;5;28mself\u001b[39m\u001b[38;5;241m.\u001b[39mcurrent_player_idx)\n\u001b[0;32m     99\u001b[0m winner \u001b[38;5;241m=\u001b[39m \u001b[38;5;28mself\u001b[39m\u001b[38;5;241m.\u001b[39mcheck_winner()\n",
      "File \u001b[1;32mc:\\Users\\utente\\Desktop\\Quixo\\players.py:105\u001b[0m, in \u001b[0;36mMyPlayer.make_move\u001b[1;34m(self, game)\u001b[0m\n\u001b[0;32m    104\u001b[0m \u001b[38;5;28;01mdef\u001b[39;00m \u001b[38;5;21mmake_move\u001b[39m(\u001b[38;5;28mself\u001b[39m, game: Game) \u001b[38;5;241m-\u001b[39m\u001b[38;5;241m>\u001b[39m \u001b[38;5;28mtuple\u001b[39m[\u001b[38;5;28mtuple\u001b[39m[\u001b[38;5;28mint\u001b[39m, \u001b[38;5;28mint\u001b[39m], Move]:\n\u001b[1;32m--> 105\u001b[0m     _, move \u001b[38;5;241m=\u001b[39m \u001b[38;5;28;43mself\u001b[39;49m\u001b[38;5;241;43m.\u001b[39;49m\u001b[43mminimax\u001b[49m\u001b[43m(\u001b[49m\u001b[43mgame\u001b[49m\u001b[43m,\u001b[49m\u001b[43m \u001b[49m\u001b[38;5;28;43mself\u001b[39;49m\u001b[38;5;241;43m.\u001b[39;49m\u001b[43mmax_depth\u001b[49m\u001b[43m,\u001b[49m\u001b[43m \u001b[49m\u001b[38;5;28;43mfloat\u001b[39;49m\u001b[43m(\u001b[49m\u001b[38;5;124;43m'\u001b[39;49m\u001b[38;5;124;43m-inf\u001b[39;49m\u001b[38;5;124;43m'\u001b[39;49m\u001b[43m)\u001b[49m\u001b[43m,\u001b[49m\u001b[43m \u001b[49m\u001b[38;5;28;43mfloat\u001b[39;49m\u001b[43m(\u001b[49m\u001b[38;5;124;43m'\u001b[39;49m\u001b[38;5;124;43minf\u001b[39;49m\u001b[38;5;124;43m'\u001b[39;49m\u001b[43m)\u001b[49m\u001b[43m,\u001b[49m\u001b[43m \u001b[49m\u001b[38;5;28;43;01mTrue\u001b[39;49;00m\u001b[43m)\u001b[49m\n\u001b[0;32m    106\u001b[0m     \u001b[38;5;28mprint\u001b[39m(move[\u001b[38;5;241m0\u001b[39m], move[\u001b[38;5;241m1\u001b[39m])\n\u001b[0;32m    107\u001b[0m     \u001b[38;5;28;01mreturn\u001b[39;00m move[\u001b[38;5;241m0\u001b[39m], move[\u001b[38;5;241m1\u001b[39m]\n",
      "File \u001b[1;32mc:\\Users\\utente\\Desktop\\Quixo\\players.py:120\u001b[0m, in \u001b[0;36mMyPlayer.minimax\u001b[1;34m(self, game, depth, alpha, beta, isMaximizing)\u001b[0m\n\u001b[0;32m    118\u001b[0m next_game \u001b[38;5;241m=\u001b[39m deepcopy(game)\n\u001b[0;32m    119\u001b[0m next_game\u001b[38;5;241m.\u001b[39m_Game__move(vm[\u001b[38;5;241m0\u001b[39m][\u001b[38;5;241m0\u001b[39m], vm[\u001b[38;5;241m0\u001b[39m][\u001b[38;5;241m1\u001b[39m], next_game\u001b[38;5;241m.\u001b[39mget_current_player())\n\u001b[1;32m--> 120\u001b[0m \u001b[38;5;28meval\u001b[39m,_ \u001b[38;5;241m=\u001b[39m \u001b[38;5;28;43mself\u001b[39;49m\u001b[38;5;241;43m.\u001b[39;49m\u001b[43mminimax\u001b[49m\u001b[43m(\u001b[49m\u001b[43mnext_game\u001b[49m\u001b[43m,\u001b[49m\u001b[43m \u001b[49m\u001b[43mdepth\u001b[49m\u001b[38;5;241;43m-\u001b[39;49m\u001b[38;5;241;43m1\u001b[39;49m\u001b[43m \u001b[49m\u001b[43m,\u001b[49m\u001b[43m \u001b[49m\u001b[43malpha\u001b[49m\u001b[43m,\u001b[49m\u001b[43m \u001b[49m\u001b[43mbeta\u001b[49m\u001b[43m,\u001b[49m\u001b[43m \u001b[49m\u001b[38;5;28;43;01mFalse\u001b[39;49;00m\u001b[43m)\u001b[49m\n\u001b[0;32m    121\u001b[0m \u001b[38;5;28;01mif\u001b[39;00m \u001b[38;5;28meval\u001b[39m \u001b[38;5;241m>\u001b[39m v:\n\u001b[0;32m    122\u001b[0m     v \u001b[38;5;241m=\u001b[39m \u001b[38;5;28meval\u001b[39m\n",
      "File \u001b[1;32mc:\\Users\\utente\\Desktop\\Quixo\\players.py:113\u001b[0m, in \u001b[0;36mMyPlayer.minimax\u001b[1;34m(self, game, depth, alpha, beta, isMaximizing)\u001b[0m\n\u001b[0;32m    110\u001b[0m \u001b[38;5;28;01mif\u001b[39;00m depth \u001b[38;5;241m==\u001b[39m \u001b[38;5;241m0\u001b[39m \u001b[38;5;129;01mor\u001b[39;00m game\u001b[38;5;241m.\u001b[39mcheck_winner() \u001b[38;5;241m!=\u001b[39m \u001b[38;5;241m-\u001b[39m\u001b[38;5;241m1\u001b[39m:\n\u001b[0;32m    111\u001b[0m     \u001b[38;5;28;01mreturn\u001b[39;00m \u001b[38;5;28mself\u001b[39m\u001b[38;5;241m.\u001b[39mevaluate(game), \u001b[38;5;28;01mNone\u001b[39;00m\n\u001b[1;32m--> 113\u001b[0m valid_moves \u001b[38;5;241m=\u001b[39m \u001b[43mget_all_valid_moves\u001b[49m\u001b[43m(\u001b[49m\u001b[43mgame\u001b[49m\u001b[43m)\u001b[49m \u001b[38;5;66;03m# move is the player_id of the player currently performing the move, player_id is the id of MY player\u001b[39;00m\n\u001b[0;32m    114\u001b[0m \u001b[38;5;28;01mif\u001b[39;00m isMaximizing:\n\u001b[0;32m    115\u001b[0m     best_move \u001b[38;5;241m=\u001b[39m \u001b[38;5;28;01mNone\u001b[39;00m\n",
      "File \u001b[1;32mc:\\Users\\utente\\Desktop\\Quixo\\players.py:31\u001b[0m, in \u001b[0;36mget_all_valid_moves\u001b[1;34m(game)\u001b[0m\n\u001b[0;32m     29\u001b[0m                 free_cells\u001b[38;5;241m=\u001b[39m np\u001b[38;5;241m.\u001b[39mcount_nonzero(board\u001b[38;5;241m==\u001b[39m\u001b[38;5;241m-\u001b[39m\u001b[38;5;241m1\u001b[39m)\n\u001b[0;32m     30\u001b[0m                 one_cells \u001b[38;5;241m=\u001b[39m np\u001b[38;5;241m.\u001b[39mcount_nonzero(board\u001b[38;5;241m==\u001b[39m\u001b[38;5;241m1\u001b[39m)\n\u001b[1;32m---> 31\u001b[0m                 \u001b[38;5;28;01mif\u001b[39;00m \u001b[38;5;129;01mnot\u001b[39;00m \u001b[43mcheck_simmetries\u001b[49m\u001b[43m(\u001b[49m\u001b[43mvalid_moves\u001b[49m\u001b[43m,\u001b[49m\u001b[43m \u001b[49m\u001b[43mboard\u001b[49m\u001b[43m,\u001b[49m\u001b[43m \u001b[49m\u001b[43mfree_cells\u001b[49m\u001b[43m,\u001b[49m\u001b[43m \u001b[49m\u001b[43mone_cells\u001b[49m\u001b[43m)\u001b[49m:\n\u001b[0;32m     32\u001b[0m                     valid_moves\u001b[38;5;241m.\u001b[39mappend((((i, j), m), g\u001b[38;5;241m.\u001b[39mget_board()))\n\u001b[0;32m     33\u001b[0m \u001b[38;5;28;01mreturn\u001b[39;00m valid_moves\n",
      "File \u001b[1;32mc:\\Users\\utente\\Desktop\\Quixo\\players.py:49\u001b[0m, in \u001b[0;36mcheck_simmetries\u001b[1;34m(list_states, new_state, free_cells_new_state, one_cells_new_state)\u001b[0m\n\u001b[0;32m     47\u001b[0m key \u001b[38;5;241m=\u001b[39m k \u001b[38;5;241m*\u001b[39m flip  \n\u001b[0;32m     48\u001b[0m int_state \u001b[38;5;241m=\u001b[39m np\u001b[38;5;241m.\u001b[39mflip(s[\u001b[38;5;241m1\u001b[39m], axis\u001b[38;5;241m=\u001b[39m\u001b[38;5;241m1\u001b[39m) \u001b[38;5;28;01mif\u001b[39;00m key\u001b[38;5;241m<\u001b[39m\u001b[38;5;241m0\u001b[39m \u001b[38;5;28;01melse\u001b[39;00m s[\u001b[38;5;241m1\u001b[39m]\u001b[38;5;66;03m# axis=1 is to flip horizontally\u001b[39;00m\n\u001b[1;32m---> 49\u001b[0m int_state \u001b[38;5;241m=\u001b[39m \u001b[43mnp\u001b[49m\u001b[38;5;241;43m.\u001b[39;49m\u001b[43mrot90\u001b[49m\u001b[43m(\u001b[49m\u001b[43mint_state\u001b[49m\u001b[43m,\u001b[49m\u001b[43m \u001b[49m\u001b[43mk\u001b[49m\u001b[38;5;241;43m=\u001b[39;49m\u001b[38;5;28;43mabs\u001b[39;49m\u001b[43m(\u001b[49m\u001b[43mk\u001b[49m\u001b[43m)\u001b[49m\u001b[38;5;241;43m%\u001b[39;49m\u001b[38;5;241;43m4\u001b[39;49m\u001b[43m,\u001b[49m\u001b[43m \u001b[49m\u001b[43maxes\u001b[49m\u001b[38;5;241;43m=\u001b[39;49m\u001b[43m(\u001b[49m\u001b[38;5;241;43m1\u001b[39;49m\u001b[43m,\u001b[49m\u001b[43m \u001b[49m\u001b[38;5;241;43m0\u001b[39;49m\u001b[43m)\u001b[49m\u001b[43m)\u001b[49m\n\u001b[0;32m     50\u001b[0m \u001b[38;5;28;01mif\u001b[39;00m np\u001b[38;5;241m.\u001b[39marray_equal(new_state, int_state): \u001b[38;5;66;03m# you found the simmetry, now the fun starts\u001b[39;00m\n\u001b[0;32m     51\u001b[0m     \u001b[38;5;28;01mreturn\u001b[39;00m \u001b[38;5;28;01mTrue\u001b[39;00m     \n",
      "File \u001b[1;32mc:\\Users\\utente\\AppData\\Local\\pypoetry\\Cache\\virtualenvs\\quixo-Ff8YJCr4-py3.12\\Lib\\site-packages\\numpy\\lib\\function_base.py:247\u001b[0m, in \u001b[0;36mrot90\u001b[1;34m(m, k, axes)\u001b[0m\n\u001b[0;32m    244\u001b[0m     \u001b[38;5;28;01mreturn\u001b[39;00m transpose(flip(m, axes[\u001b[38;5;241m1\u001b[39m]), axes_list)\n\u001b[0;32m    245\u001b[0m \u001b[38;5;28;01melse\u001b[39;00m:\n\u001b[0;32m    246\u001b[0m     \u001b[38;5;66;03m# k == 3\u001b[39;00m\n\u001b[1;32m--> 247\u001b[0m     \u001b[38;5;28;01mreturn\u001b[39;00m flip(\u001b[43mtranspose\u001b[49m\u001b[43m(\u001b[49m\u001b[43mm\u001b[49m\u001b[43m,\u001b[49m\u001b[43m \u001b[49m\u001b[43maxes_list\u001b[49m\u001b[43m)\u001b[49m, axes[\u001b[38;5;241m1\u001b[39m])\n",
      "\u001b[1;31mKeyboardInterrupt\u001b[0m: "
     ]
    }
   ],
   "source": [
    "wins = 0\n",
    "losses = 0\n",
    "\n",
    "print(\"\\nTEST GAMES\")\n",
    "    \n",
    "for _ in tqdm(range(TEST_MATCHES)):\n",
    "    # g = TrainGame(np.ones((5, 5), dtype=np.uint8) * -1, 1)\n",
    "    g = Game()\n",
    "    player1 = MyPlayer(2)\n",
    "    player2 = RandomPlayer()\n",
    "    winner = g.play(player1, player2)\n",
    "    if winner == 0:\n",
    "        wins +=1\n",
    "    else:\n",
    "        losses += 1\n",
    "    # g.print()\n",
    "print(f\"wins: {wins}, losses: {losses}\")"
   ]
  }
 ],
 "metadata": {
  "kernelspec": {
   "display_name": "quixo-2SR8Bqo--py3.12",
   "language": "python",
   "name": "python3"
  },
  "language_info": {
   "codemirror_mode": {
    "name": "ipython",
    "version": 3
   },
   "file_extension": ".py",
   "mimetype": "text/x-python",
   "name": "python",
   "nbconvert_exporter": "python",
   "pygments_lexer": "ipython3",
   "version": "3.12.0"
  }
 },
 "nbformat": 4,
 "nbformat_minor": 2
}
