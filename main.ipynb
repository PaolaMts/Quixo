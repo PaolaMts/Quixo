{
 "cells": [
  {
   "cell_type": "code",
   "execution_count": 1,
   "metadata": {},
   "outputs": [
    {
     "name": "stderr",
     "output_type": "stream",
     "text": [
      "c:\\Users\\marco\\AppData\\Local\\pypoetry\\Cache\\virtualenvs\\quixo-2SR8Bqo--py3.12\\Lib\\site-packages\\tqdm\\auto.py:21: TqdmWarning: IProgress not found. Please update jupyter and ipywidgets. See https://ipywidgets.readthedocs.io/en/stable/user_install.html\n",
      "  from .autonotebook import tqdm as notebook_tqdm\n"
     ]
    }
   ],
   "source": [
    "from game import Game\n",
    "from tree import Node, Tree, TrainGame\n",
    "from players import MyPlayer, RandomPlayer, empty_moves\n",
    "from utils import serialize_node, deserialize_tree, initialize_tree, expand_tree\n",
    "from tqdm.auto import tqdm\n",
    "import numpy as np\n",
    "import pickle\n",
    "import os"
   ]
  },
  {
   "cell_type": "code",
   "execution_count": 2,
   "metadata": {},
   "outputs": [],
   "source": [
    "TEST_MATCHES = 100\n",
    "MODE = \"train\""
   ]
  },
  {
   "cell_type": "code",
   "execution_count": 3,
   "metadata": {},
   "outputs": [
    {
     "name": "stdout",
     "output_type": "stream",
     "text": [
      "INITIALIZE THE TREE\n"
     ]
    },
    {
     "name": "stderr",
     "output_type": "stream",
     "text": [
      "100%|██████████| 1000/1000 [01:56<00:00,  8.61it/s]"
     ]
    },
    {
     "name": "stdout",
     "output_type": "stream",
     "text": [
      "Max Node: 5\n",
      "non_complete_nodes: 676\n",
      "depht 4: 676\n"
     ]
    },
    {
     "name": "stderr",
     "output_type": "stream",
     "text": [
      "\n"
     ]
    }
   ],
   "source": [
    "# mc_tree, node_list = initialize_tree()\n",
    "cont_terminal = 0 \n",
    "\n",
    "mc_tree = Tree(5)\n",
    "node_list:list[Node] = []\n",
    "if os.path.exists('albero.pkl'):\n",
    "    print(\"Loading trained agent...\")\n",
    "    with open('albero.pkl', 'rb') as file:\n",
    "        loaded_tree = pickle.load(file)\n",
    "        mc_tree.head, node_list = deserialize_tree(loaded_tree,0,node_list=node_list)\n",
    "        mc_tree.depth = max(node_list, key=lambda e: e.depth).depth          \n",
    "else:     \n",
    "    initialize_tree(mc_tree, node_list,1000)\n",
    "\n",
    "print(f\"Max Node: {max(node_list, key=lambda e: e.depth).depth }\")\n",
    "print(f\"non_complete_nodes: {len(list(filter(lambda e: e.depth==4 and not e.is_complete, node_list)))}\")  \n",
    "print(f\"depht 4: {len(list(filter(lambda e: e.depth==4, node_list)))}\") "
   ]
  },
  {
   "cell_type": "code",
   "execution_count": 4,
   "metadata": {},
   "outputs": [
    {
     "name": "stdout",
     "output_type": "stream",
     "text": [
      "non_complete_nodes: 32\n",
      "depht 2: 35\n"
     ]
    }
   ],
   "source": [
    "print(f\"non_complete_nodes: {len(list(filter(lambda e: e.depth==2 and not e.is_complete, node_list)))}\")  \n",
    "print(f\"depht 2: {len(list(filter(lambda e: e.depth==2, node_list)))}\") "
   ]
  },
  {
   "cell_type": "code",
   "execution_count": null,
   "metadata": {},
   "outputs": [],
   "source": [
    "if MODE == \"train\":\n",
    "    len_node_before_expansion = len(node_list) \n",
    "    expand_tree(mc_tree, node_list,400)\n",
    "    len_node_after_expansion = len(node_list)\n",
    "    print(f\"nodes after expansion: {len_node_after_expansion}\")\n",
    "    print(f\"Depth: {mc_tree.depth}\")"
   ]
  },
  {
   "cell_type": "code",
   "execution_count": 5,
   "metadata": {},
   "outputs": [
    {
     "name": "stdout",
     "output_type": "stream",
     "text": [
      "Saving trained agent...\n"
     ]
    }
   ],
   "source": [
    "print(\"Saving trained agent...\")\n",
    "serialized_tree= serialize_node(mc_tree.head,0) \n",
    "with open('albero.pkl', 'wb') as file:\n",
    "    pickle.dump(serialized_tree, file)"
   ]
  },
  {
   "cell_type": "code",
   "execution_count": 6,
   "metadata": {},
   "outputs": [],
   "source": [
    "STARTING_TURN = 0\n",
    "# players=[None, None]\n",
    "# players[STARTING_TURN]= MyPlayer(mc_tree, STARTING_TURN)\n",
    "# players[1-STARTING_TURN]=RandomPlayer(1-STARTING_TURN)\n",
    "# player1, player2=players[0], players[1]"
   ]
  },
  {
   "cell_type": "code",
   "execution_count": 7,
   "metadata": {},
   "outputs": [
    {
     "name": "stdout",
     "output_type": "stream",
     "text": [
      "\n",
      "TEST GAMES\n"
     ]
    },
    {
     "name": "stderr",
     "output_type": "stream",
     "text": [
      " 10%|█         | 10/100 [00:00<00:05, 17.63it/s]"
     ]
    },
    {
     "name": "stdout",
     "output_type": "stream",
     "text": [
      "WHY!!!\n",
      "WHY!!!\n",
      "WHY!!!\n"
     ]
    },
    {
     "name": "stderr",
     "output_type": "stream",
     "text": [
      " 26%|██▌       | 26/100 [00:01<00:03, 19.23it/s]"
     ]
    },
    {
     "name": "stdout",
     "output_type": "stream",
     "text": [
      "WHY!!!\n",
      "WHY!!!\n"
     ]
    },
    {
     "name": "stderr",
     "output_type": "stream",
     "text": [
      " 32%|███▏      | 32/100 [00:01<00:03, 20.18it/s]"
     ]
    },
    {
     "name": "stdout",
     "output_type": "stream",
     "text": [
      "WHY!!!\n",
      "WHY!!!\n",
      "WHY!!!\n"
     ]
    },
    {
     "name": "stderr",
     "output_type": "stream",
     "text": [
      " 41%|████      | 41/100 [00:02<00:02, 20.06it/s]"
     ]
    },
    {
     "name": "stdout",
     "output_type": "stream",
     "text": [
      "WHY!!!\n"
     ]
    },
    {
     "name": "stderr",
     "output_type": "stream",
     "text": [
      " 47%|████▋     | 47/100 [00:02<00:03, 16.83it/s]"
     ]
    },
    {
     "name": "stdout",
     "output_type": "stream",
     "text": [
      "WHY!!!\n",
      "WHY!!!\n",
      "WHY!!!\n"
     ]
    },
    {
     "name": "stderr",
     "output_type": "stream",
     "text": [
      " 51%|█████     | 51/100 [00:02<00:02, 16.80it/s]"
     ]
    },
    {
     "name": "stdout",
     "output_type": "stream",
     "text": [
      "WHY!!!\n",
      "WHY!!!\n"
     ]
    },
    {
     "name": "stderr",
     "output_type": "stream",
     "text": [
      " 67%|██████▋   | 67/100 [00:03<00:02, 14.62it/s]"
     ]
    },
    {
     "name": "stdout",
     "output_type": "stream",
     "text": [
      "WHY!!!\n"
     ]
    },
    {
     "name": "stderr",
     "output_type": "stream",
     "text": [
      " 74%|███████▍  | 74/100 [00:04<00:01, 17.36it/s]"
     ]
    },
    {
     "name": "stdout",
     "output_type": "stream",
     "text": [
      "WHY!!!\n",
      "WHY!!!\n",
      "WHY!!!\n"
     ]
    },
    {
     "name": "stderr",
     "output_type": "stream",
     "text": [
      " 83%|████████▎ | 83/100 [00:04<00:01, 15.79it/s]"
     ]
    },
    {
     "name": "stdout",
     "output_type": "stream",
     "text": [
      "WHY!!!\n",
      "WHY!!!\n"
     ]
    },
    {
     "name": "stderr",
     "output_type": "stream",
     "text": [
      " 86%|████████▌ | 86/100 [00:05<00:00, 17.05it/s]"
     ]
    },
    {
     "name": "stdout",
     "output_type": "stream",
     "text": [
      "WHY!!!\n"
     ]
    },
    {
     "name": "stderr",
     "output_type": "stream",
     "text": [
      " 95%|█████████▌| 95/100 [00:05<00:00, 16.54it/s]"
     ]
    },
    {
     "name": "stdout",
     "output_type": "stream",
     "text": [
      "WHY!!!\n",
      "WHY!!!\n"
     ]
    },
    {
     "name": "stderr",
     "output_type": "stream",
     "text": [
      "100%|██████████| 100/100 [00:06<00:00, 16.61it/s]"
     ]
    },
    {
     "name": "stdout",
     "output_type": "stream",
     "text": [
      "WHY!!!\n",
      "wins: 61, losses: 39\n",
      "max turn switch: 5\n",
      "min turn switch: 4\n"
     ]
    },
    {
     "name": "stderr",
     "output_type": "stream",
     "text": [
      "\n"
     ]
    }
   ],
   "source": [
    "wins = 0\n",
    "losses = 0\n",
    "empty_moves()\n",
    "# print(f\"# of nodes = {len(node_list)}\")\n",
    "\n",
    "print(\"\\nTEST GAMES\")\n",
    "\n",
    "switch_turns = []\n",
    "    \n",
    "for _ in tqdm(range(TEST_MATCHES)):\n",
    "    # g = TrainGame(np.ones((5, 5), dtype=np.uint8) * -1, 1)\n",
    "    g = Game()\n",
    "    player1 = MyPlayer(mc_tree, STARTING_TURN)\n",
    "    player2 = RandomPlayer(1- STARTING_TURN)\n",
    "    winner = g.play(player1, player2)\n",
    "    switch_turns.append((player1.switch_turn, player1.switch_cause))\n",
    "    if winner == 0:\n",
    "        wins +=1\n",
    "    else:\n",
    "        losses += 1\n",
    "    # g.print()\n",
    "    empty_moves()\n",
    "print(f\"wins: {wins}, losses: {losses}\")\n",
    "\n",
    "print(f\"max turn switch: {max(switch_turns, key=lambda e: e[0])[0]}\")\n",
    "print(f\"min turn switch: {min(switch_turns, key=lambda e: e[0])[0]}\")"
   ]
  }
 ],
 "metadata": {
  "kernelspec": {
   "display_name": "quixo-2SR8Bqo--py3.12",
   "language": "python",
   "name": "python3"
  },
  "language_info": {
   "codemirror_mode": {
    "name": "ipython",
    "version": 3
   },
   "file_extension": ".py",
   "mimetype": "text/x-python",
   "name": "python",
   "nbconvert_exporter": "python",
   "pygments_lexer": "ipython3",
   "version": "3.12.0"
  }
 },
 "nbformat": 4,
 "nbformat_minor": 2
}
